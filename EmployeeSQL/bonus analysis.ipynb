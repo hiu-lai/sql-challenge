{
 "cells": [
  {
   "cell_type": "code",
   "execution_count": 17,
   "id": "72d4271e",
   "metadata": {},
   "outputs": [],
   "source": [
    "import pandas as pd\n",
    "from sqlalchemy import create_engine\n",
    "# from sqlalchemy.orm import sessionmaker\n",
    "from sqlalchemy_utils import database_exists, create_database\n",
    "from config import postgresql as settings"
   ]
  },
  {
   "cell_type": "code",
   "execution_count": 18,
   "id": "eb2df4bb",
   "metadata": {},
   "outputs": [],
   "source": [
    "def get_engine(user, passwd, host, port, db):\n",
    "    url = f\"postgresql://{user}:{passwd}@{host}:{port}/{db}\"\n",
    "    if not database_exists(url):\n",
    "        create_database(url)\n",
    "    engine = create_engine(url, pool_size=50, echo=False)\n",
    "    return engine"
   ]
  },
  {
   "cell_type": "code",
   "execution_count": 19,
   "id": "48c9ea01",
   "metadata": {},
   "outputs": [],
   "source": [
    "engine = get_engine(settings['pguser'],\n",
    "          settings['pgpasswd'],\n",
    "          settings['pghost'],\n",
    "          settings['pgport'],\n",
    "          settings['pgdb'])"
   ]
  },
  {
   "cell_type": "code",
   "execution_count": 20,
   "id": "ec8c42f0",
   "metadata": {},
   "outputs": [
    {
     "data": {
      "text/plain": [
       "'sql-challenge'"
      ]
     },
     "execution_count": 20,
     "metadata": {},
     "output_type": "execute_result"
    }
   ],
   "source": [
    "# Check connection to progresql db\n",
    "engine.url.database"
   ]
  },
  {
   "cell_type": "code",
   "execution_count": 21,
   "id": "434c6a8a",
   "metadata": {},
   "outputs": [],
   "source": [
    "employee_salary_pd = pd.read_sql('SELECT * FROM Emp_salary', engine)\n",
    "\n",
    "# Set salaries to 1000s for easier reading\n",
    "employee_salary_pd[\"salary('000)\"] = employee_salary_pd['salary']/1000"
   ]
  },
  {
   "cell_type": "code",
   "execution_count": 22,
   "id": "d05bd10d",
   "metadata": {},
   "outputs": [
    {
     "data": {
      "text/html": [
       "<div>\n",
       "<style scoped>\n",
       "    .dataframe tbody tr th:only-of-type {\n",
       "        vertical-align: middle;\n",
       "    }\n",
       "\n",
       "    .dataframe tbody tr th {\n",
       "        vertical-align: top;\n",
       "    }\n",
       "\n",
       "    .dataframe thead th {\n",
       "        text-align: right;\n",
       "    }\n",
       "</style>\n",
       "<table border=\"1\" class=\"dataframe\">\n",
       "  <thead>\n",
       "    <tr style=\"text-align: right;\">\n",
       "      <th></th>\n",
       "      <th>Number of Employees</th>\n",
       "    </tr>\n",
       "    <tr>\n",
       "      <th>Employee salary ('000)</th>\n",
       "      <th></th>\n",
       "    </tr>\n",
       "  </thead>\n",
       "  <tbody>\n",
       "    <tr>\n",
       "      <th>&lt;$20</th>\n",
       "      <td>0</td>\n",
       "    </tr>\n",
       "    <tr>\n",
       "      <th>$20-40</th>\n",
       "      <td>95346</td>\n",
       "    </tr>\n",
       "    <tr>\n",
       "      <th>$40-60</th>\n",
       "      <td>121043</td>\n",
       "    </tr>\n",
       "    <tr>\n",
       "      <th>$60-80</th>\n",
       "      <td>66219</td>\n",
       "    </tr>\n",
       "    <tr>\n",
       "      <th>$80-100</th>\n",
       "      <td>16129</td>\n",
       "    </tr>\n",
       "    <tr>\n",
       "      <th>$100-120</th>\n",
       "      <td>1263</td>\n",
       "    </tr>\n",
       "    <tr>\n",
       "      <th>$120-140</th>\n",
       "      <td>24</td>\n",
       "    </tr>\n",
       "  </tbody>\n",
       "</table>\n",
       "</div>"
      ],
      "text/plain": [
       "                        Number of Employees\n",
       "Employee salary ('000)                     \n",
       "<$20                                      0\n",
       "$20-40                                95346\n",
       "$40-60                               121043\n",
       "$60-80                                66219\n",
       "$80-100                               16129\n",
       "$100-120                               1263\n",
       "$120-140                                 24"
      ]
     },
     "execution_count": 22,
     "metadata": {},
     "output_type": "execute_result"
    }
   ],
   "source": [
    "# Create a histogram to visualize the most common salary ranges for employees.\n",
    "# Group salaries by range\n",
    "bins = [0, 20, 40, 60, 80, 100,120,140]\n",
    "\n",
    "# names for bins\n",
    "group_names = [\"<$20\", \"$20-40\", \"$40-60\", \"$60-80\", \"$80-100\", \"$100-120\", \"$120-140\"]\n",
    "emp_salaries = {\"Number of Employees\": employee_salary_pd[\"salary('000)\"]}\n",
    "emp_salaries_df= pd.DataFrame(emp_salaries)\n",
    "emp_salaries_df[\"Employee salary ('000)\"] = pd.cut(emp_salaries_df[\"Number of Employees\"], bins, labels=group_names, \n",
    "                                                   include_lowest=True)\n",
    "emp_salaries_df_range = emp_salaries_df.groupby([\"Employee salary ('000)\"]).count()\n",
    "emp_salaries_df_range"
   ]
  },
  {
   "cell_type": "code",
   "execution_count": 52,
   "id": "19f25513",
   "metadata": {},
   "outputs": [
    {
     "data": {
      "image/png": "[encoded data removed]",
      "text/plain": [
       "<Figure size 432x288 with 1 Axes>"
      ]
     },
     "metadata": {
      "needs_background": "light"
     },
     "output_type": "display_data"
    }
   ],
   "source": [
    "# Plot histogram\n",
    "import matplotlib.pyplot as plt\n",
    "import numpy as np\n",
    "\n",
    "emp_salaries_df_range.plot.bar(ylabel = \"Number of Employees\", rot=45, title= \"Employees Salary range\", \n",
    "                              legend=False)\n",
    "plt.savefig('images\\Employees Salary Range.png', facecolor='white')"
   ]
  },
  {
   "cell_type": "code",
   "execution_count": 53,
   "id": "4926ac0b",
   "metadata": {},
   "outputs": [
    {
     "data": {
      "text/html": [
       "<div>\n",
       "<style scoped>\n",
       "    .dataframe tbody tr th:only-of-type {\n",
       "        vertical-align: middle;\n",
       "    }\n",
       "\n",
       "    .dataframe tbody tr th {\n",
       "        vertical-align: top;\n",
       "    }\n",
       "\n",
       "    .dataframe thead th {\n",
       "        text-align: right;\n",
       "    }\n",
       "</style>\n",
       "<table border=\"1\" class=\"dataframe\">\n",
       "  <thead>\n",
       "    <tr style=\"text-align: right;\">\n",
       "      <th></th>\n",
       "      <th>salary('000)</th>\n",
       "    </tr>\n",
       "    <tr>\n",
       "      <th>title</th>\n",
       "      <th></th>\n",
       "    </tr>\n",
       "  </thead>\n",
       "  <tbody>\n",
       "    <tr>\n",
       "      <th>Assistant Engineer</th>\n",
       "      <td>48.564434</td>\n",
       "    </tr>\n",
       "    <tr>\n",
       "      <th>Engineer</th>\n",
       "      <td>48.535337</td>\n",
       "    </tr>\n",
       "    <tr>\n",
       "      <th>Manager</th>\n",
       "      <td>51.531042</td>\n",
       "    </tr>\n",
       "    <tr>\n",
       "      <th>Senior Engineer</th>\n",
       "      <td>48.506800</td>\n",
       "    </tr>\n",
       "    <tr>\n",
       "      <th>Senior Staff</th>\n",
       "      <td>58.550173</td>\n",
       "    </tr>\n",
       "    <tr>\n",
       "      <th>Staff</th>\n",
       "      <td>58.465383</td>\n",
       "    </tr>\n",
       "    <tr>\n",
       "      <th>Technique Leader</th>\n",
       "      <td>48.582896</td>\n",
       "    </tr>\n",
       "  </tbody>\n",
       "</table>\n",
       "</div>"
      ],
      "text/plain": [
       "                    salary('000)\n",
       "title                           \n",
       "Assistant Engineer     48.564434\n",
       "Engineer               48.535337\n",
       "Manager                51.531042\n",
       "Senior Engineer        48.506800\n",
       "Senior Staff           58.550173\n",
       "Staff                  58.465383\n",
       "Technique Leader       48.582896"
      ]
     },
     "execution_count": 53,
     "metadata": {},
     "output_type": "execute_result"
    }
   ],
   "source": [
    "# Create a bar chart of average salary by title.\n",
    "emp_mast_df = employee_salary_pd[[\"title\", \"salary('000)\"]]\n",
    "emp_mast_df = emp_mast_df.groupby('title').mean()\n",
    "emp_mast_df"
   ]
  },
  {
   "cell_type": "code",
   "execution_count": 54,
   "id": "dc1ff451",
   "metadata": {},
   "outputs": [
    {
     "data": {
      "text/plain": [
       "<AxesSubplot:title={'center':'Employees Average Salary by title'}, xlabel='title', ylabel=\"Salaries ('000)\">"
      ]
     },
     "execution_count": 54,
     "metadata": {},
     "output_type": "execute_result"
    },
    {
     "data": {
      "image/png": "[encoded data removed]",
      "text/plain": [
       "<Figure size 432x288 with 1 Axes>"
      ]
     },
     "metadata": {
      "needs_background": "light"
     },
     "output_type": "display_data"
    }
   ],
   "source": [
    "emp_mast_df.plot.bar(ylabel = \"Salaries ('000)\", rot=25, title= \"Employees Average Salary by title\", \n",
    "                              legend=False)"
   ]
  },
  {
   "cell_type": "markdown",
   "id": "b6d9df46",
   "metadata": {},
   "source": [
    "# Confirming data integrity"
   ]
  },
  {
   "cell_type": "code",
   "execution_count": 69,
   "id": "ac920603",
   "metadata": {},
   "outputs": [
    {
     "name": "stdout",
     "output_type": "stream",
     "text": [
      "============   ENGINEER   ============\n",
      "The lower quartile salary is: 40.0\n",
      "The upper quartile salary is: 54.645\n",
      "The interquartile range salart is: 14.645\n",
      "The median salary is: 44.478 \n",
      "The mean salary is: 48.5353\n",
      "Values below 18.0325 could be outliers.\n",
      "Values above 76.6125 could be outliers.\n",
      "812 potential outliers found in Engineer\n",
      "              \n",
      "============   SENIOR ENGINEER   ============\n",
      "The lower quartile salary is: 40.0\n",
      "The upper quartile salary is: 54.605\n",
      "The interquartile range salart is: 14.605\n",
      "The median salary is: 44.502 \n",
      "The mean salary is: 48.5068\n",
      "Values below 18.0925 could be outliers.\n",
      "Values above 76.5125 could be outliers.\n",
      "1620 potential outliers found in Senior Engineer\n",
      "              \n",
      "============   TECHNIQUE LEADER   ============\n",
      "The lower quartile salary is: 40.0\n",
      "The upper quartile salary is: 54.9602\n",
      "The interquartile range salart is: 14.9602\n",
      "The median salary is: 44.546 \n",
      "The mean salary is: 48.5829\n",
      "Values below 17.5597 could be outliers.\n",
      "Values above 77.4005 could be outliers.\n",
      "225 potential outliers found in Technique Leader\n",
      "              \n",
      "============   STAFF   ============\n",
      "The lower quartile salary is: 41.0127\n",
      "The upper quartile salary is: 70.5305\n",
      "The interquartile range salart is: 29.5178\n",
      "The median salary is: 56.407 \n",
      "The mean salary is: 58.4654\n",
      "Values below -3.264 could be outliers.\n",
      "Values above 114.8072 could be outliers.\n",
      "67 potential outliers found in Staff\n",
      "              \n",
      "============   SENIOR STAFF   ============\n",
      "The lower quartile salary is: 41.242\n",
      "The upper quartile salary is: 70.6325\n",
      "The interquartile range salart is: 29.3905\n",
      "The median salary is: 56.585 \n",
      "The mean salary is: 58.5502\n",
      "Values below -2.8438 could be outliers.\n",
      "Values above 114.7182 could be outliers.\n",
      "20 potential outliers found in Senior Staff\n",
      "              \n",
      "============   ASSISTANT ENGINEER   ============\n",
      "The lower quartile salary is: 40.0\n",
      "The upper quartile salary is: 54.6715\n",
      "The interquartile range salart is: 14.6715\n",
      "The median salary is: 44.588 \n",
      "The mean salary is: 48.5644\n",
      "Values below 17.9928 could be outliers.\n",
      "Values above 76.6788 could be outliers.\n",
      "103 potential outliers found in Assistant Engineer\n",
      "              \n",
      "============   MANAGER   ============\n",
      "The lower quartile salary is: 40.0\n",
      "The upper quartile salary is: 60.3588\n",
      "The interquartile range salart is: 20.3588\n",
      "The median salary is: 48.4585 \n",
      "The mean salary is: 51.531\n",
      "Values below 9.4618 could be outliers.\n",
      "Values above 90.897 could be outliers.\n",
      "No potential outliers found in Manager\n",
      "              \n"
     ]
    }
   ],
   "source": [
    "titel_compare = employee_salary_pd[['title', 'salary']].groupby('title').count()\n",
    "titel_compare\n",
    "\n",
    "emp_title_list = employee_salary_pd['title'].unique()\n",
    "data = []\n",
    "\n",
    "# Calculating the IQR and quantitatively determine if there are any potential outliers. \n",
    "\n",
    "for emp_title in emp_title_list:\n",
    "    salaryamt = employee_salary_pd.loc[(employee_salary_pd[\"title\"] == emp_title), \"salary('000)\"]\n",
    "    data.append(salaryamt)\n",
    "    \n",
    "    average=salaryamt.mean()\n",
    "    quartiles = salaryamt.quantile([0.25,0.5,0.75])\n",
    "    lowerq = np.round(quartiles[0.25], 4)\n",
    "    upperq = np.round(quartiles[0.75], 4)\n",
    "    iqr = np.round((upperq-lowerq), 4)\n",
    "    print(f\"============   {emp_title.upper()}   ============\")\n",
    "    print(f\"The lower quartile salary is: {lowerq}\")\n",
    "    print(f\"The upper quartile salary is: {upperq}\")\n",
    "    print(f\"The interquartile range salart is: {iqr}\")\n",
    "    print(f\"The median salary is: {np.round(quartiles[0.5], 4)} \")\n",
    "    print(f\"The mean salary is: {np.round(average, 4)}\")\n",
    "\n",
    "    lower_bound = lowerq - (1.5*iqr)\n",
    "    upper_bound = upperq + (1.5*iqr)\n",
    "    print(f\"Values below {np.round(lower_bound, 4)} could be outliers.\")\n",
    "    print(f\"Values above {np.round(upper_bound, 4)} could be outliers.\")   \n",
    "    outliers = salaryamt.loc[(salaryamt < lower_bound) | (salaryamt > upper_bound)]\n",
    "    if outliers.empty:\n",
    "        print(f\"No potential outliers found in {emp_title}\")\n",
    "    else:\n",
    "        outlier_count = outliers.count()\n",
    "        print(f\"{outlier_count} potential outliers found in {emp_title}\")\n",
    "    print(\"              \")"
   ]
  },
  {
   "cell_type": "code",
   "execution_count": 70,
   "id": "3da1e10b",
   "metadata": {},
   "outputs": [
    {
     "data": {
      "image/png": "[encoded data removed]",
      "text/plain": [
       "<Figure size 1440x432 with 1 Axes>"
      ]
     },
     "metadata": {
      "needs_background": "light"
     },
     "output_type": "display_data"
    }
   ],
   "source": [
    "fig, ax = plt.subplots(figsize=(20, 6))\n",
    "ax.set(title=\"Employees Average Salary by Title\", ylabel=\"Salaries ('000)\", xlabel=\"title\")\n",
    "ax.yaxis.grid(True, linestyle='-', which='major', color='lightgrey', alpha=0.5)\n",
    "bp = ax.boxplot(data, labels=emp_title_list, sym='^')\n",
    "for b in np.arange(0, len(emp_title_list)):\n",
    "    box = bp['boxes'][b]\n",
    "#    plt.setp(box, color=colour)\n",
    "    # tumor volume mean\n",
    "    ax.plot(np.average(box.get_xdata()), np.average(data[b]), color='w', marker='*', markeredgecolor='k')\n",
    "                \n",
    "fig.text(0.8, 0.045, '*', color='black', weight='roman', size='x-large')\n",
    "fig.text(0.815, 0.043, '  Average Value', color='black', weight='roman', size='medium')\n",
    "plt.savefig('images/employees salary boxplot.png', facecolor='white')\n",
    "plt.show()"
   ]
  },
  {
   "cell_type": "code",
   "execution_count": 28,
   "id": "b491b5b2",
   "metadata": {},
   "outputs": [],
   "source": [
    "engine.dispose()"
   ]
  },
  {
   "cell_type": "markdown",
   "id": "46567f35",
   "metadata": {},
   "source": [
    "# Conclusion\n",
    "With close to 1% of outliers in the dataset and only 1638 unique surnames for a 300,000 plus employee files, this raises issues on the integrity of the data."
   ]
  },
  {
   "cell_type": "code",
   "execution_count": null,
   "id": "f4c0e96d",
   "metadata": {},
   "outputs": [],
   "source": []
  }
 ],
 "metadata": {
  "kernelspec": {
   "display_name": "Python 3 (ipykernel)",
   "language": "python",
   "name": "python3"
  },
  "language_info": {
   "codemirror_mode": {
    "name": "ipython",
    "version": 3
   },
   "file_extension": ".py",
   "mimetype": "text/x-python",
   "name": "python",
   "nbconvert_exporter": "python",
   "pygments_lexer": "ipython3",
   "version": "3.9.7"
  }
 },
 "nbformat": 4,
 "nbformat_minor": 5
}
